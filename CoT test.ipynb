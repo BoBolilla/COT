{
 "cells": [
  {
   "cell_type": "code",
   "execution_count": 1,
   "metadata": {},
   "outputs": [],
   "source": [
    "from zhipuai import ZhipuAI\n",
    "client = ZhipuAI(api_key=\"35d4c2b3ff2c3777ddf7e5ffaf81a47f.KH5q4puGzSUEJuto\") # 填写您自己的APIKey"
   ]
  },
  {
   "cell_type": "code",
   "execution_count": 2,
   "metadata": {},
   "outputs": [],
   "source": [
    "def get_response(messages, cot = False):\n",
    "    if cot:\n",
    "        messages = messages + 'let\\'s think step by step!'\n",
    "    response = client.chat.completions.create(\n",
    "        model=\"glm-3-turbo\",  # 填写需要调用的模型名称\n",
    "        # model='glm-4',\n",
    "        messages=[\n",
    "            {'role': 'system', 'content': 'Please output the final answer in the format of: answer is [answer], where [] is the final answer to the question and is output at the end. Please only put numbers in the output [], no other symbols.'},\n",
    "            {\"role\": \"user\", \"content\": messages},\n",
    "        ],\n",
    "    )\n",
    "    return response.choices[0].message"
   ]
  },
  {
   "cell_type": "code",
   "execution_count": 1,
   "metadata": {},
   "outputs": [],
   "source": [
    "import pandas as pd\n",
    "df = pd.read_parquet('../data/gsm8k/main/test-00000-of-00001.parquet')"
   ]
  },
  {
   "cell_type": "code",
   "execution_count": 4,
   "metadata": {},
   "outputs": [
    {
     "name": "stderr",
     "output_type": "stream",
     "text": [
      "100%|██████████| 1319/1319 [1:26:33<00:00,  3.94s/it] \n"
     ]
    }
   ],
   "source": [
    "import re\n",
    "from tqdm import tqdm\n",
    "zero_shot_ac = []\n",
    "for id, item in tqdm(df.iterrows(), total=len(df)):\n",
    "    Q = item['question']\n",
    "    A = item['answer'].split('####')[1].strip()\n",
    "    R = get_response(Q).content\n",
    "    # 正则表达式模式，用于匹配方括号内的内容\n",
    "    pattern = r'\\[(.*?)\\]'\n",
    "\n",
    "    # 使用search函数从字符串末尾开始搜索\n",
    "    # 为了实现从后向前搜索，可以将字符串反转，然后进行匹配\n",
    "    match = re.findall(pattern, R)\n",
    "    if len(match):\n",
    "        match = ''.join(re.findall(r'\\d+', match[-1].strip()))\n",
    "        if match == A:\n",
    "            zero_shot_ac.append(id)\n",
    "    "
   ]
  },
  {
   "cell_type": "code",
   "execution_count": 5,
   "metadata": {},
   "outputs": [
    {
     "name": "stderr",
     "output_type": "stream",
     "text": [
      "100%|██████████| 1319/1319 [1:57:15<00:00,  5.33s/it]  \n"
     ]
    }
   ],
   "source": [
    "zero_shot_CoT_ac = []\n",
    "for id, item in tqdm(df.iterrows(), total=len(df)):\n",
    "    Q = item['question']\n",
    "    A = item['answer'].split('####')[1].strip()\n",
    "    R = get_response(Q, True).content\n",
    "    # 正则表达式模式，用于匹配方括号内的内容\n",
    "    pattern = r'\\[(.*?)\\]'\n",
    "\n",
    "    # 使用search函数从字符串末尾开始搜索\n",
    "    # 为了实现从后向前搜索，可以将字符串反转，然后进行匹配\n",
    "    match = re.findall(pattern, R)\n",
    "    if len(match):\n",
    "        match = ''.join(re.findall(r'\\d+', match[-1].strip()))\n",
    "        if match == A:\n",
    "            zero_shot_CoT_ac.append(id)\n",
    "    "
   ]
  },
  {
   "cell_type": "code",
   "execution_count": 6,
   "metadata": {},
   "outputs": [
    {
     "data": {
      "text/plain": [
       "(693, 1319, 0.5253980288097043)"
      ]
     },
     "execution_count": 6,
     "metadata": {},
     "output_type": "execute_result"
    }
   ],
   "source": [
    "len(zero_shot_ac), len(df), len(zero_shot_ac)/len(df)"
   ]
  },
  {
   "cell_type": "code",
   "execution_count": 8,
   "metadata": {},
   "outputs": [
    {
     "data": {
      "text/plain": [
       "(747, 1319, 0.5663381349507203)"
      ]
     },
     "execution_count": 8,
     "metadata": {},
     "output_type": "execute_result"
    }
   ],
   "source": [
    "len(zero_shot_CoT_ac), len(df), len(zero_shot_CoT_ac)/len(df)"
   ]
  },
  {
   "cell_type": "code",
   "execution_count": null,
   "metadata": {},
   "outputs": [],
   "source": []
  }
 ],
 "metadata": {
  "kernelspec": {
   "display_name": "MR",
   "language": "python",
   "name": "python3"
  },
  "language_info": {
   "codemirror_mode": {
    "name": "ipython",
    "version": 3
   },
   "file_extension": ".py",
   "mimetype": "text/x-python",
   "name": "python",
   "nbconvert_exporter": "python",
   "pygments_lexer": "ipython3",
   "version": "3.10.14"
  }
 },
 "nbformat": 4,
 "nbformat_minor": 2
}
